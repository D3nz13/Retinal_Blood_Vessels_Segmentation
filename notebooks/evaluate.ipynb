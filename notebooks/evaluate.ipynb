{
 "cells": [
  {
   "cell_type": "code",
   "execution_count": 1,
   "id": "43cc462d-e4fa-45b7-bbcf-0b86d8e4e392",
   "metadata": {},
   "outputs": [
    {
     "name": "stderr",
     "output_type": "stream",
     "text": [
      "2024-01-22 21:06:22.219312: I tensorflow/core/platform/cpu_feature_guard.cc:182] This TensorFlow binary is optimized to use available CPU instructions in performance-critical operations.\n",
      "To enable the following instructions: AVX2 FMA, in other operations, rebuild TensorFlow with the appropriate compiler flags.\n"
     ]
    }
   ],
   "source": [
    "from pathlib import Path\n",
    "from typing import Union\n",
    "\n",
    "import matplotlib.pyplot as plt\n",
    "import numpy as np\n",
    "import tensorflow as tf\n",
    "\n",
    "from utils.predictions import predict_img, convert_idx_img_to_color, get_dataset_generators\n",
    "\n",
    "EVALUATION_DIR = Path(\"../results_json/cityscapes/\")\n",
    "EVALUATION_DIR.mkdir(parents=True, exist_ok=True)\n",
    "BATCH_SIZE = 2\n",
    "val_images_num = 500"
   ]
  },
  {
   "cell_type": "code",
   "execution_count": 2,
   "id": "5c26e8e6-91d3-4cd2-8e10-27280e6677fd",
   "metadata": {},
   "outputs": [],
   "source": [
    "models_dir = Path(\"../models/cityscapes/\")\n",
    "\n",
    "def _get_activation_from_model_name(model_name: Union[Path, str]) -> str:\n",
    "    model_name_str = str(model_name) if isinstance(model_name, Path) else model_name\n",
    "\n",
    "    return \"_\".join(model_name_str.split(\"_\")[:-1])"
   ]
  },
  {
   "cell_type": "code",
   "execution_count": 3,
   "id": "da2f96bc-2616-42d2-b6f4-366f9196ed18",
   "metadata": {},
   "outputs": [],
   "source": [
    "activations, models = zip(*[(_get_activation_from_model_name(str(f).split(\"/\")[-1]), str(f)) for f in models_dir.iterdir()])"
   ]
  },
  {
   "cell_type": "code",
   "execution_count": 4,
   "id": "06da14cf-696c-4662-bd02-b450c003c080",
   "metadata": {},
   "outputs": [
    {
     "name": "stdout",
     "output_type": "stream",
     "text": [
      "Found 2972 images belonging to 1 classes.\n",
      "Found 2972 images belonging to 1 classes.\n",
      "Found 500 images belonging to 1 classes.\n",
      "Found 500 images belonging to 1 classes.\n"
     ]
    },
    {
     "name": "stderr",
     "output_type": "stream",
     "text": [
      "2024-01-22 21:06:26.872212: I tensorflow/compiler/xla/stream_executor/cuda/cuda_gpu_executor.cc:981] could not open file to read NUMA node: /sys/bus/pci/devices/0000:06:00.0/numa_node\n",
      "Your kernel may have been built without NUMA support.\n",
      "2024-01-22 21:06:26.875832: I tensorflow/compiler/xla/stream_executor/cuda/cuda_gpu_executor.cc:981] could not open file to read NUMA node: /sys/bus/pci/devices/0000:06:00.0/numa_node\n",
      "Your kernel may have been built without NUMA support.\n",
      "2024-01-22 21:06:26.876050: I tensorflow/compiler/xla/stream_executor/cuda/cuda_gpu_executor.cc:981] could not open file to read NUMA node: /sys/bus/pci/devices/0000:06:00.0/numa_node\n",
      "Your kernel may have been built without NUMA support.\n",
      "2024-01-22 21:06:26.876738: I tensorflow/compiler/xla/stream_executor/cuda/cuda_gpu_executor.cc:981] could not open file to read NUMA node: /sys/bus/pci/devices/0000:06:00.0/numa_node\n",
      "Your kernel may have been built without NUMA support.\n",
      "2024-01-22 21:06:26.876936: I tensorflow/compiler/xla/stream_executor/cuda/cuda_gpu_executor.cc:981] could not open file to read NUMA node: /sys/bus/pci/devices/0000:06:00.0/numa_node\n",
      "Your kernel may have been built without NUMA support.\n",
      "2024-01-22 21:06:26.877138: I tensorflow/compiler/xla/stream_executor/cuda/cuda_gpu_executor.cc:981] could not open file to read NUMA node: /sys/bus/pci/devices/0000:06:00.0/numa_node\n",
      "Your kernel may have been built without NUMA support.\n",
      "2024-01-22 21:06:27.375584: I tensorflow/compiler/xla/stream_executor/cuda/cuda_gpu_executor.cc:981] could not open file to read NUMA node: /sys/bus/pci/devices/0000:06:00.0/numa_node\n",
      "Your kernel may have been built without NUMA support.\n",
      "2024-01-22 21:06:27.375790: I tensorflow/compiler/xla/stream_executor/cuda/cuda_gpu_executor.cc:981] could not open file to read NUMA node: /sys/bus/pci/devices/0000:06:00.0/numa_node\n",
      "Your kernel may have been built without NUMA support.\n",
      "2024-01-22 21:06:27.375805: I tensorflow/core/common_runtime/gpu/gpu_device.cc:1726] Could not identify NUMA node of platform GPU id 0, defaulting to 0.  Your kernel may not have been built with NUMA support.\n",
      "2024-01-22 21:06:27.376001: I tensorflow/compiler/xla/stream_executor/cuda/cuda_gpu_executor.cc:981] could not open file to read NUMA node: /sys/bus/pci/devices/0000:06:00.0/numa_node\n",
      "Your kernel may have been built without NUMA support.\n",
      "2024-01-22 21:06:27.376035: I tensorflow/core/common_runtime/gpu/gpu_device.cc:1639] Created device /job:localhost/replica:0/task:0/device:GPU:0 with 5391 MB memory:  -> device: 0, name: NVIDIA GeForce RTX 3070, pci bus id: 0000:06:00.0, compute capability: 8.6\n"
     ]
    }
   ],
   "source": [
    "_, val_set = get_dataset_generators(batch_size=BATCH_SIZE)"
   ]
  },
  {
   "cell_type": "code",
   "execution_count": 5,
   "id": "4f4544b5-e6ae-427a-aef0-abfe32e0d477",
   "metadata": {},
   "outputs": [],
   "source": [
    "import dataclasses as dc\n",
    "from json import dump\n",
    "\n",
    "from keras.models import load_model\n",
    "from tensorflow.keras.metrics import Recall, Precision\n",
    "\n",
    "def iou(y_true, y_pred):\n",
    "    def f(y_true, y_pred):\n",
    "        intersection = (y_true * y_pred).sum()\n",
    "        union = y_true.sum() + y_pred.sum() - intersection\n",
    "        x = (intersection + 1e-15) / (union + 1e-15)\n",
    "        x = x.astype(np.float32)\n",
    "        return x\n",
    "    return tf.numpy_function(f, [y_true, y_pred], tf.float32)\n",
    "\n",
    "@dc.dataclass\n",
    "class EvaluationResult:\n",
    "    loss: float\n",
    "    accuracy: float\n",
    "    recall: float\n",
    "    precision: float\n",
    "    iou: float\n",
    "\n",
    "def evaluate_model(model, val_set, name):\n",
    "    model.compile(optimizer=\"adam\", loss=\"categorical_crossentropy\", metrics=['accuracy', Recall(name=\"recall\"), Precision(name=\"precision\"), iou])\n",
    "    eval = model.evaluate(val_set, steps=val_images_num // BATCH_SIZE, return_dict=True)\n",
    "    eval_res = EvaluationResult(**eval)\n",
    "    with open(EVALUATION_DIR / f\"{name}.json\", \"w\") as f:\n",
    "        dump(dc.asdict(eval_res), f)"
   ]
  },
  {
   "cell_type": "code",
   "execution_count": 6,
   "id": "5b3caef4-3341-4a9e-b90c-02893652bb34",
   "metadata": {},
   "outputs": [],
   "source": [
    "activations, models = zip(*[(act, mod) for act, mod in zip(activations, models) if \"modulus\" not in mod])"
   ]
  },
  {
   "cell_type": "code",
   "execution_count": 7,
   "id": "adec18ac-c512-4df2-96b1-f4eef658309d",
   "metadata": {},
   "outputs": [
    {
     "name": "stdout",
     "output_type": "stream",
     "text": [
      "gelu\n"
     ]
    },
    {
     "name": "stderr",
     "output_type": "stream",
     "text": [
      "2024-01-22 21:06:46.905208: I tensorflow/compiler/xla/stream_executor/cuda/cuda_dnn.cc:432] Loaded cuDNN version 8600\n"
     ]
    },
    {
     "name": "stdout",
     "output_type": "stream",
     "text": [
      "250/250 [==============================] - 13s 36ms/step - loss: 0.5413 - accuracy: 0.8430 - recall: 0.8017 - precision: 0.9076 - iou: 0.6464\n",
      "leaky_relu\n",
      "250/250 [==============================] - 8s 29ms/step - loss: 0.5545 - accuracy: 0.8399 - recall: 0.7974 - precision: 0.9059 - iou: 0.6370\n",
      "mish\n",
      "250/250 [==============================] - 9s 33ms/step - loss: 0.5550 - accuracy: 0.8393 - recall: 0.7965 - precision: 0.9068 - iou: 0.6391\n",
      "swish\n",
      "250/250 [==============================] - 9s 32ms/step - loss: 0.5692 - accuracy: 0.8360 - recall: 0.7915 - precision: 0.9058 - iou: 0.6301\n"
     ]
    }
   ],
   "source": [
    "for model_name, model in zip(activations, models):\n",
    "    print(model_name)\n",
    "    loaded_model = load_model(model)\n",
    "    evaluate_model(loaded_model, val_set, model_name)"
   ]
  }
 ],
 "metadata": {
  "kernelspec": {
   "display_name": "Python 3 (ipykernel)",
   "language": "python",
   "name": "python3"
  },
  "language_info": {
   "codemirror_mode": {
    "name": "ipython",
    "version": 3
   },
   "file_extension": ".py",
   "mimetype": "text/x-python",
   "name": "python",
   "nbconvert_exporter": "python",
   "pygments_lexer": "ipython3",
   "version": "3.8.10"
  }
 },
 "nbformat": 4,
 "nbformat_minor": 5
}

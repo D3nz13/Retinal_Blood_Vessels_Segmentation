{
 "cells": [
  {
   "cell_type": "code",
   "execution_count": 1,
   "id": "d1298277-7b25-41fa-8e47-bc8a180e1e0e",
   "metadata": {},
   "outputs": [],
   "source": [
    "import sys\n",
    "sys.path.append(\"../\")"
   ]
  },
  {
   "cell_type": "code",
   "execution_count": 2,
   "id": "c2ae0820-5773-4cca-ae29-39daabae838d",
   "metadata": {},
   "outputs": [
    {
     "name": "stderr",
     "output_type": "stream",
     "text": [
      "2024-01-12 22:41:14.268218: I tensorflow/core/platform/cpu_feature_guard.cc:182] This TensorFlow binary is optimized to use available CPU instructions in performance-critical operations.\n",
      "To enable the following instructions: AVX2 FMA, in other operations, rebuild TensorFlow with the appropriate compiler flags.\n"
     ]
    }
   ],
   "source": [
    "import os\n",
    "\n",
    "import numpy as np\n",
    "import tensorflow as tf\n",
    "from tensorflow.keras.preprocessing.image import ImageDataGenerator\n",
    "from tensorflow.random import set_seed\n",
    "import tensorflow.keras.backend as K\n",
    "from tensorflow.keras import activations\n",
    "\n",
    "from tensorflow.keras.layers import (\n",
    "    Input,\n",
    "    Activation,\n",
    "    BatchNormalization,\n",
    "    Concatenate,\n",
    "    Conv2D,\n",
    "    Conv2DTranspose,\n",
    "    Dropout,\n",
    "    ELU,\n",
    "    LeakyReLU,\n",
    "    MaxPool2D,\n",
    "    PReLU\n",
    ")\n",
    "\n",
    "from tensorflow.keras.metrics import Recall, Precision\n",
    "from tensorflow.keras.models import Model\n",
    "from tensorflow.keras.optimizers import Adam\n",
    "\n",
    "from tensorflow.keras.callbacks import (\n",
    "    EarlyStopping,\n",
    "    ModelCheckpoint,\n",
    "    ReduceLROnPlateau\n",
    ")\n",
    "\n",
    "WIDTH, HEIGHT = (256, 256)\n",
    "BATCH_SIZE = 4\n",
    "DATAGEN_SEED = 24\n",
    "NUM_CLASSES = 29\n",
    "\n",
    "set_seed(DATAGEN_SEED)"
   ]
  },
  {
   "cell_type": "code",
   "execution_count": 3,
   "id": "f7757a0a-7fc9-4afd-a990-a02d384ad045",
   "metadata": {},
   "outputs": [
    {
     "data": {
      "text/plain": [
       "(2972, 500)"
      ]
     },
     "execution_count": 3,
     "metadata": {},
     "output_type": "execute_result"
    }
   ],
   "source": [
    "train_dir, val_dir = \"../cityscapes_data_preprocessed/train/\", \"../cityscapes_data_preprocessed/val/\"\n",
    "training_images_num, val_images_num = len(os.listdir(train_dir + \"img/dummy/\")), len(os.listdir(val_dir + \"img/dummy/\"))\n",
    "training_images_num, val_images_num"
   ]
  },
  {
   "cell_type": "code",
   "execution_count": 4,
   "id": "b2538f27-fd90-4fd8-8579-66718b264631",
   "metadata": {},
   "outputs": [
    {
     "name": "stdout",
     "output_type": "stream",
     "text": [
      "Found 2972 images belonging to 1 classes.\n",
      "Found 2972 images belonging to 1 classes.\n",
      "Found 500 images belonging to 1 classes.\n",
      "Found 500 images belonging to 1 classes.\n"
     ]
    },
    {
     "name": "stderr",
     "output_type": "stream",
     "text": [
      "2024-01-12 22:41:20.418207: I tensorflow/compiler/xla/stream_executor/cuda/cuda_gpu_executor.cc:981] could not open file to read NUMA node: /sys/bus/pci/devices/0000:06:00.0/numa_node\n",
      "Your kernel may have been built without NUMA support.\n",
      "2024-01-12 22:41:20.421853: I tensorflow/compiler/xla/stream_executor/cuda/cuda_gpu_executor.cc:981] could not open file to read NUMA node: /sys/bus/pci/devices/0000:06:00.0/numa_node\n",
      "Your kernel may have been built without NUMA support.\n",
      "2024-01-12 22:41:20.422042: I tensorflow/compiler/xla/stream_executor/cuda/cuda_gpu_executor.cc:981] could not open file to read NUMA node: /sys/bus/pci/devices/0000:06:00.0/numa_node\n",
      "Your kernel may have been built without NUMA support.\n",
      "2024-01-12 22:41:20.422840: I tensorflow/compiler/xla/stream_executor/cuda/cuda_gpu_executor.cc:981] could not open file to read NUMA node: /sys/bus/pci/devices/0000:06:00.0/numa_node\n",
      "Your kernel may have been built without NUMA support.\n",
      "2024-01-12 22:41:20.423027: I tensorflow/compiler/xla/stream_executor/cuda/cuda_gpu_executor.cc:981] could not open file to read NUMA node: /sys/bus/pci/devices/0000:06:00.0/numa_node\n",
      "Your kernel may have been built without NUMA support.\n",
      "2024-01-12 22:41:20.423205: I tensorflow/compiler/xla/stream_executor/cuda/cuda_gpu_executor.cc:981] could not open file to read NUMA node: /sys/bus/pci/devices/0000:06:00.0/numa_node\n",
      "Your kernel may have been built without NUMA support.\n",
      "2024-01-12 22:41:20.909887: I tensorflow/compiler/xla/stream_executor/cuda/cuda_gpu_executor.cc:981] could not open file to read NUMA node: /sys/bus/pci/devices/0000:06:00.0/numa_node\n",
      "Your kernel may have been built without NUMA support.\n",
      "2024-01-12 22:41:20.910211: I tensorflow/compiler/xla/stream_executor/cuda/cuda_gpu_executor.cc:981] could not open file to read NUMA node: /sys/bus/pci/devices/0000:06:00.0/numa_node\n",
      "Your kernel may have been built without NUMA support.\n",
      "2024-01-12 22:41:20.910226: I tensorflow/core/common_runtime/gpu/gpu_device.cc:1726] Could not identify NUMA node of platform GPU id 0, defaulting to 0.  Your kernel may not have been built with NUMA support.\n",
      "2024-01-12 22:41:20.910464: I tensorflow/compiler/xla/stream_executor/cuda/cuda_gpu_executor.cc:981] could not open file to read NUMA node: /sys/bus/pci/devices/0000:06:00.0/numa_node\n",
      "Your kernel may have been built without NUMA support.\n",
      "2024-01-12 22:41:20.910505: I tensorflow/core/common_runtime/gpu/gpu_device.cc:1639] Created device /job:localhost/replica:0/task:0/device:GPU:0 with 5391 MB memory:  -> device: 0, name: NVIDIA GeForce RTX 3070, pci bus id: 0000:06:00.0, compute capability: 8.6\n"
     ]
    }
   ],
   "source": [
    "from tensorflow.data import Dataset\n",
    "\n",
    "img_datagen = ImageDataGenerator(rescale=1./255)\n",
    "mask_datagen = ImageDataGenerator()\n",
    "\n",
    "train_image_datagen = img_datagen.flow_from_directory(train_dir + \"img/\", class_mode=None, batch_size=BATCH_SIZE, seed=DATAGEN_SEED)\n",
    "train_mask_datagen = mask_datagen.flow_from_directory(train_dir + \"mask/\", class_mode=None, batch_size=BATCH_SIZE, seed=DATAGEN_SEED, color_mode=\"grayscale\")\n",
    "train_mask_generator = Dataset.from_generator(lambda: train_mask_datagen,\n",
    "    output_types=tf.float32,\n",
    "    output_shapes=(BATCH_SIZE, 256, 256, 1)\n",
    ").map(lambda x: tf.reshape(tf.one_hot(tf.cast(x, tf.uint8), depth=NUM_CLASSES), (BATCH_SIZE, 256, 256, NUM_CLASSES)))\n",
    "train_set = zip(train_image_datagen, train_mask_generator)\n",
    "\n",
    "val_image_datagen = img_datagen.flow_from_directory(val_dir + \"img/\", class_mode=None, batch_size=BATCH_SIZE, seed=DATAGEN_SEED)\n",
    "val_mask_datagen = mask_datagen.flow_from_directory(val_dir + \"mask/\", class_mode=None, batch_size=BATCH_SIZE, seed=DATAGEN_SEED, color_mode=\"grayscale\")\n",
    "val_mask_generator = Dataset.from_generator(lambda: val_mask_datagen,\n",
    "    output_types=tf.float32,\n",
    "    output_shapes=(BATCH_SIZE, 256, 256, 1)\n",
    ").map(lambda x: tf.reshape(tf.one_hot(tf.cast(x, tf.uint8), depth=NUM_CLASSES), (-1, 256, 256, NUM_CLASSES)))\n",
    "val_set = zip(val_image_datagen, val_mask_generator)"
   ]
  },
  {
   "cell_type": "code",
   "execution_count": 5,
   "id": "4b337887-88dd-4157-ad94-e8c2394161e5",
   "metadata": {},
   "outputs": [],
   "source": [
    "def dice_coef(y_true, y_pred, num_classes=29):\n",
    "    smooth = 1e-15\n",
    "    y_true_f = K.flatten(K.one_hot(K.cast(y_true, 'int32'), num_classes=num_classes)[...,1:])\n",
    "    y_pred_f = K.flatten(y_pred[...,1:])\n",
    "    intersect = K.sum(y_true_f * y_pred_f, axis=-1)\n",
    "    denom = K.sum(y_true_f + y_pred_f, axis=-1)\n",
    "    return K.mean((2. * intersect / (denom + smooth)))\n",
    "\n",
    "def dice_loss(y_true, y_pred):\n",
    "    return 1.0 - dice_coef(y_true, y_pred)"
   ]
  },
  {
   "cell_type": "code",
   "execution_count": 6,
   "id": "ecd8e7cd-cf2d-47fa-8fbe-d355f182d81b",
   "metadata": {},
   "outputs": [],
   "source": [
    "kernel_initializer =  'he_uniform'\n",
    "\n",
    "def conv_block(inputs, num_filters):\n",
    "    x = Conv2D(num_filters, 3, padding=\"same\", kernel_initializer=kernel_initializer)(inputs)\n",
    "    x = BatchNormalization()(x)\n",
    "    # x = PReLU()(x)\n",
    "    x = Activation(activations.mish)(x)\n",
    "    # x = Activation(modulus_activation)(x)\n",
    "\n",
    "    x = Conv2D(num_filters, 3, padding=\"same\", kernel_initializer=kernel_initializer)(x)\n",
    "    x = BatchNormalization()(x)\n",
    "    # x = PReLU()(x)\n",
    "    x = Activation(activations.mish)(x)\n",
    "    \n",
    "    # x = Activation(modulus_activation)(x)\n",
    "\n",
    "    return x\n",
    "\n",
    "def encoder_block(inputs, num_filters):\n",
    "    x = conv_block(inputs, num_filters)\n",
    "    p = MaxPool2D((2, 2))(x)\n",
    "    return x, p\n",
    "\n",
    "def decoder_block(inputs, skip_features, num_filters):\n",
    "    x = Conv2DTranspose(num_filters, (2, 2), strides=2, padding=\"same\", kernel_initializer=kernel_initializer)(inputs)\n",
    "    x = Concatenate()([x, skip_features])\n",
    "    x = conv_block(x, num_filters)\n",
    "    return x\n",
    "\n",
    "def build_unet(input_shape, num_classes=29):\n",
    "    inputs = Input(input_shape)\n",
    "\n",
    "    s1, p1 = encoder_block(inputs, 64)\n",
    "    s2, p2 = encoder_block(p1, 128)\n",
    "    s3, p3 = encoder_block(p2, 256)\n",
    "    # s4, p4 = encoder_block(p3, 512)\n",
    "    s4, p4 = encoder_block(p3, 512)\n",
    "\n",
    "    b1 = conv_block(p4, 1024)\n",
    "\n",
    "    # d1 = decoder_block(b1, s4, 512)\n",
    "    d1 = decoder_block(b1, s4, 512)\n",
    "    d2 = decoder_block(d1, s3, 256)\n",
    "    d3 = decoder_block(d2, s2, 128)\n",
    "    d4 = decoder_block(d3, s1, 64)\n",
    "\n",
    "    outputs = Conv2D(NUM_CLASSES, 1, padding=\"same\", activation=\"softmax\")(d4)\n",
    "\n",
    "    model = Model(inputs, outputs, name=\"UNET\")\n",
    "    return model"
   ]
  },
  {
   "cell_type": "code",
   "execution_count": 7,
   "id": "97b9d6f1-c810-4866-81c2-11cb65f20d6f",
   "metadata": {},
   "outputs": [],
   "source": [
    "model = build_unet((HEIGHT, WIDTH, 3))\n",
    "model.compile(optimizer=Adam(learning_rate=1e-3), loss=\"categorical_crossentropy\", metrics=['accuracy', Recall(name=\"recall\"), Precision(name=\"precision\")])"
   ]
  },
  {
   "cell_type": "code",
   "execution_count": 8,
   "id": "3fad0828-6fc4-44d5-a11f-29e30a246831",
   "metadata": {},
   "outputs": [],
   "source": [
    "callbacks = [\n",
    "    ModelCheckpoint(filepath=\"../models/cityscapes/mish_model.hdf5\",\n",
    "                    monitor=\"val_loss\",\n",
    "                    save_best_only=True),\n",
    "    EarlyStopping(monitor=\"val_loss\",\n",
    "                  patience=5,\n",
    "                  min_delta=0.01,\n",
    "                  restore_best_weights=True),\n",
    "    ReduceLROnPlateau(monitor=\"val_loss\",\n",
    "                      factor=0.1,\n",
    "                      min_delta=0.01\n",
    "                      patience=2,\n",
    "                      verbose=1,\n",
    "                      min_lr=1e-6)\n",
    "]"
   ]
  },
  {
   "cell_type": "code",
   "execution_count": 9,
   "id": "ebb18769-3165-4df2-addb-df8ba6585216",
   "metadata": {},
   "outputs": [
    {
     "name": "stdout",
     "output_type": "stream",
     "text": [
      "Epoch 1/300\n"
     ]
    },
    {
     "name": "stderr",
     "output_type": "stream",
     "text": [
      "2024-01-12 22:41:45.640084: I tensorflow/compiler/xla/stream_executor/cuda/cuda_dnn.cc:432] Loaded cuDNN version 8600\n",
      "2024-01-12 22:41:49.997060: I tensorflow/compiler/xla/service/service.cc:168] XLA service 0x7f0c7072abf0 initialized for platform CUDA (this does not guarantee that XLA will be used). Devices:\n",
      "2024-01-12 22:41:49.997094: I tensorflow/compiler/xla/service/service.cc:176]   StreamExecutor device (0): NVIDIA GeForce RTX 3070, Compute Capability 8.6\n",
      "2024-01-12 22:41:50.000430: I tensorflow/compiler/mlir/tensorflow/utils/dump_mlir_util.cc:255] disabling MLIR crash reproducer, set env var `MLIR_CRASH_REPRODUCER_DIRECTORY` to enable.\n",
      "2024-01-12 22:41:50.084998: I ./tensorflow/compiler/jit/device_compiler.h:186] Compiled cluster using XLA!  This line is logged at most once for the lifetime of the process.\n",
      "2024-01-12 22:41:59.617372: W tensorflow/tsl/framework/bfc_allocator.cc:296] Allocator (GPU_0_bfc) ran out of memory trying to allocate 4.27GiB with freed_by_count=0. The caller indicates that this is not a failure, but this may mean that there could be performance gains if more memory were available.\n",
      "2024-01-12 22:42:00.322382: W tensorflow/tsl/framework/bfc_allocator.cc:296] Allocator (GPU_0_bfc) ran out of memory trying to allocate 4.15GiB with freed_by_count=0. The caller indicates that this is not a failure, but this may mean that there could be performance gains if more memory were available.\n"
     ]
    },
    {
     "name": "stdout",
     "output_type": "stream",
     "text": [
      "743/743 [==============================] - ETA: 0s - loss: 1.0980 - accuracy: 0.7045 - recall: 0.6075 - precision: 0.8128"
     ]
    },
    {
     "name": "stderr",
     "output_type": "stream",
     "text": [
      "/usr/local/lib/python3.8/dist-packages/keras/src/engine/training.py:3000: UserWarning: You are saving your model as an HDF5 file via `model.save()`. This file format is considered legacy. We recommend using instead the native Keras format, e.g. `model.save('my_model.keras')`.\n",
      "  saving_api.save_model(\n"
     ]
    },
    {
     "name": "stdout",
     "output_type": "stream",
     "text": [
      "743/743 [==============================] - 141s 161ms/step - loss: 1.0980 - accuracy: 0.7045 - recall: 0.6075 - precision: 0.8128 - val_loss: 1.2898 - val_accuracy: 0.6632 - val_recall: 0.6262 - val_precision: 0.7190 - lr: 0.0010\n",
      "Epoch 2/300\n",
      "743/743 [==============================] - 120s 161ms/step - loss: 0.8567 - accuracy: 0.7664 - recall: 0.7020 - precision: 0.8477 - val_loss: 0.9116 - val_accuracy: 0.7518 - val_recall: 0.6940 - val_precision: 0.8319 - lr: 0.0010\n",
      "Epoch 3/300\n",
      "743/743 [==============================] - 120s 161ms/step - loss: 0.7781 - accuracy: 0.7904 - recall: 0.7339 - precision: 0.8663 - val_loss: 0.8495 - val_accuracy: 0.7700 - val_recall: 0.7201 - val_precision: 0.8427 - lr: 0.0010\n",
      "Epoch 4/300\n",
      "743/743 [==============================] - 119s 160ms/step - loss: 0.7198 - accuracy: 0.8049 - recall: 0.7526 - precision: 0.8773 - val_loss: 0.7577 - val_accuracy: 0.7941 - val_recall: 0.7424 - val_precision: 0.8715 - lr: 0.0010\n",
      "Epoch 5/300\n",
      "743/743 [==============================] - 118s 159ms/step - loss: 0.6827 - accuracy: 0.8137 - recall: 0.7640 - precision: 0.8842 - val_loss: 0.7006 - val_accuracy: 0.8076 - val_recall: 0.7626 - val_precision: 0.8770 - lr: 0.0010\n",
      "Epoch 6/300\n",
      "743/743 [==============================] - 120s 161ms/step - loss: 0.6509 - accuracy: 0.8211 - recall: 0.7735 - precision: 0.8901 - val_loss: 0.6788 - val_accuracy: 0.8151 - val_recall: 0.7579 - val_precision: 0.8981 - lr: 0.0010\n",
      "Epoch 7/300\n",
      "743/743 [==============================] - 119s 159ms/step - loss: 0.6244 - accuracy: 0.8280 - recall: 0.7820 - precision: 0.8949 - val_loss: 0.8601 - val_accuracy: 0.7558 - val_recall: 0.6833 - val_precision: 0.8416 - lr: 0.0010\n",
      "Epoch 8/300\n",
      "743/743 [==============================] - 123s 165ms/step - loss: 0.6052 - accuracy: 0.8327 - recall: 0.7884 - precision: 0.8977 - val_loss: 0.6530 - val_accuracy: 0.8210 - val_recall: 0.7648 - val_precision: 0.9037 - lr: 0.0010\n",
      "Epoch 9/300\n",
      "743/743 [==============================] - 121s 162ms/step - loss: 0.5853 - accuracy: 0.8369 - recall: 0.7939 - precision: 0.9014 - val_loss: 0.6226 - val_accuracy: 0.8269 - val_recall: 0.7808 - val_precision: 0.8969 - lr: 0.0010\n",
      "Epoch 10/300\n",
      "743/743 [==============================] - 119s 161ms/step - loss: 0.5685 - accuracy: 0.8407 - recall: 0.7982 - precision: 0.9039 - val_loss: 0.6328 - val_accuracy: 0.8192 - val_recall: 0.7734 - val_precision: 0.8886 - lr: 0.0010\n",
      "Epoch 11/300\n",
      "743/743 [==============================] - 119s 159ms/step - loss: 0.5550 - accuracy: 0.8438 - recall: 0.8024 - precision: 0.9064 - val_loss: 0.6129 - val_accuracy: 0.8281 - val_recall: 0.7913 - val_precision: 0.8903 - lr: 0.0010\n",
      "Epoch 12/300\n",
      "743/743 [==============================] - 118s 159ms/step - loss: 0.5407 - accuracy: 0.8471 - recall: 0.8062 - precision: 0.9087 - val_loss: 0.6137 - val_accuracy: 0.8280 - val_recall: 0.7810 - val_precision: 0.9022 - lr: 0.0010\n",
      "Epoch 13/300\n",
      "743/743 [==============================] - 117s 158ms/step - loss: 0.5276 - accuracy: 0.8499 - recall: 0.8099 - precision: 0.9106 - val_loss: 0.6402 - val_accuracy: 0.8168 - val_recall: 0.7777 - val_precision: 0.8791 - lr: 0.0010\n",
      "Epoch 14/300\n",
      "743/743 [==============================] - 120s 161ms/step - loss: 0.5111 - accuracy: 0.8543 - recall: 0.8152 - precision: 0.9136 - val_loss: 0.5784 - val_accuracy: 0.8324 - val_recall: 0.7866 - val_precision: 0.9015 - lr: 0.0010\n",
      "Epoch 15/300\n",
      "743/743 [==============================] - 117s 157ms/step - loss: 0.5008 - accuracy: 0.8562 - recall: 0.8177 - precision: 0.9148 - val_loss: 0.5878 - val_accuracy: 0.8274 - val_recall: 0.7784 - val_precision: 0.9013 - lr: 0.0010\n",
      "Epoch 16/300\n",
      "743/743 [==============================] - 118s 158ms/step - loss: 0.4901 - accuracy: 0.8590 - recall: 0.8210 - precision: 0.9171 - val_loss: 0.5686 - val_accuracy: 0.8368 - val_recall: 0.7983 - val_precision: 0.8980 - lr: 0.0010\n",
      "Epoch 17/300\n",
      "743/743 [==============================] - 117s 158ms/step - loss: 0.4767 - accuracy: 0.8622 - recall: 0.8252 - precision: 0.9188 - val_loss: 0.5590 - val_accuracy: 0.8393 - val_recall: 0.7983 - val_precision: 0.9045 - lr: 0.0010\n",
      "Epoch 18/300\n",
      "743/743 [==============================] - 118s 158ms/step - loss: 0.4678 - accuracy: 0.8643 - recall: 0.8279 - precision: 0.9202 - val_loss: 0.5753 - val_accuracy: 0.8312 - val_recall: 0.7911 - val_precision: 0.8949 - lr: 0.0010\n",
      "Epoch 19/300\n",
      "743/743 [==============================] - 119s 160ms/step - loss: 0.4574 - accuracy: 0.8667 - recall: 0.8308 - precision: 0.9216 - val_loss: 0.5700 - val_accuracy: 0.8338 - val_recall: 0.7897 - val_precision: 0.8998 - lr: 0.0010\n",
      "Epoch 20/300\n",
      "743/743 [==============================] - 117s 158ms/step - loss: 0.4450 - accuracy: 0.8699 - recall: 0.8350 - precision: 0.9238 - val_loss: 0.5778 - val_accuracy: 0.8393 - val_recall: 0.8032 - val_precision: 0.8980 - lr: 0.0010\n",
      "Epoch 21/300\n",
      "743/743 [==============================] - 117s 158ms/step - loss: 0.4373 - accuracy: 0.8718 - recall: 0.8376 - precision: 0.9246 - val_loss: 0.5716 - val_accuracy: 0.8320 - val_recall: 0.7881 - val_precision: 0.8977 - lr: 0.0010\n",
      "Epoch 22/300\n",
      "743/743 [==============================] - 118s 159ms/step - loss: 0.4252 - accuracy: 0.8754 - recall: 0.8422 - precision: 0.9269 - val_loss: 0.5530 - val_accuracy: 0.8465 - val_recall: 0.8062 - val_precision: 0.9088 - lr: 0.0010\n",
      "Epoch 23/300\n",
      "743/743 [==============================] - 117s 158ms/step - loss: 0.4127 - accuracy: 0.8787 - recall: 0.8462 - precision: 0.9291 - val_loss: 0.6411 - val_accuracy: 0.8276 - val_recall: 0.7935 - val_precision: 0.8866 - lr: 0.0010\n",
      "Epoch 24/300\n",
      "743/743 [==============================] - 118s 159ms/step - loss: 0.4039 - accuracy: 0.8811 - recall: 0.8491 - precision: 0.9307 - val_loss: 0.5487 - val_accuracy: 0.8471 - val_recall: 0.8137 - val_precision: 0.9015 - lr: 0.0010\n",
      "Epoch 25/300\n",
      "743/743 [==============================] - 118s 159ms/step - loss: 0.3922 - accuracy: 0.8844 - recall: 0.8535 - precision: 0.9326 - val_loss: 0.5585 - val_accuracy: 0.8430 - val_recall: 0.8091 - val_precision: 0.8999 - lr: 0.0010\n",
      "Epoch 26/300\n",
      "743/743 [==============================] - 117s 157ms/step - loss: 0.3829 - accuracy: 0.8867 - recall: 0.8565 - precision: 0.9342 - val_loss: 0.5598 - val_accuracy: 0.8457 - val_recall: 0.8084 - val_precision: 0.9057 - lr: 0.0010\n",
      "Epoch 27/300\n",
      "743/743 [==============================] - 116s 157ms/step - loss: 0.3751 - accuracy: 0.8890 - recall: 0.8595 - precision: 0.9355 - val_loss: 0.6303 - val_accuracy: 0.8325 - val_recall: 0.7938 - val_precision: 0.8915 - lr: 0.0010\n",
      "Epoch 28/300\n",
      "743/743 [==============================] - 117s 157ms/step - loss: 0.3675 - accuracy: 0.8909 - recall: 0.8620 - precision: 0.9364 - val_loss: 0.7097 - val_accuracy: 0.8137 - val_recall: 0.7725 - val_precision: 0.8791 - lr: 0.0010\n",
      "Epoch 29/300\n",
      "743/743 [==============================] - 117s 158ms/step - loss: 0.3494 - accuracy: 0.8961 - recall: 0.8685 - precision: 0.9401 - val_loss: 0.5415 - val_accuracy: 0.8534 - val_recall: 0.8246 - val_precision: 0.9026 - lr: 0.0010\n",
      "Epoch 30/300\n",
      "743/743 [==============================] - 117s 157ms/step - loss: 0.3457 - accuracy: 0.8974 - recall: 0.8701 - precision: 0.9407 - val_loss: 0.5961 - val_accuracy: 0.8467 - val_recall: 0.8161 - val_precision: 0.8983 - lr: 0.0010\n",
      "Epoch 31/300\n",
      "743/743 [==============================] - 117s 157ms/step - loss: 0.3364 - accuracy: 0.8997 - recall: 0.8732 - precision: 0.9421 - val_loss: 0.5794 - val_accuracy: 0.8462 - val_recall: 0.8143 - val_precision: 0.9003 - lr: 0.0010\n",
      "Epoch 32/300\n",
      "743/743 [==============================] - 119s 160ms/step - loss: 0.3262 - accuracy: 0.9027 - recall: 0.8770 - precision: 0.9438 - val_loss: 0.6274 - val_accuracy: 0.8406 - val_recall: 0.8078 - val_precision: 0.8940 - lr: 0.0010\n",
      "Epoch 33/300\n",
      "743/743 [==============================] - 117s 157ms/step - loss: 0.3237 - accuracy: 0.9032 - recall: 0.8777 - precision: 0.9442 - val_loss: 0.5657 - val_accuracy: 0.8432 - val_recall: 0.8120 - val_precision: 0.8944 - lr: 0.0010\n",
      "Epoch 34/300\n",
      "743/743 [==============================] - ETA: 0s - loss: 0.3135 - accuracy: 0.9062 - recall: 0.8816 - precision: 0.9456\n",
      "Epoch 34: ReduceLROnPlateau reducing learning rate to 0.00010000000474974513.\n",
      "743/743 [==============================] - 117s 158ms/step - loss: 0.3135 - accuracy: 0.9062 - recall: 0.8816 - precision: 0.9456 - val_loss: 0.6172 - val_accuracy: 0.8465 - val_recall: 0.8179 - val_precision: 0.8961 - lr: 0.0010\n",
      "Epoch 35/300\n",
      "743/743 [==============================] - 117s 157ms/step - loss: 0.2804 - accuracy: 0.9161 - recall: 0.8936 - precision: 0.9525 - val_loss: 0.5715 - val_accuracy: 0.8527 - val_recall: 0.8273 - val_precision: 0.8966 - lr: 1.0000e-04\n",
      "Epoch 36/300\n",
      "743/743 [==============================] - 118s 159ms/step - loss: 0.2708 - accuracy: 0.9188 - recall: 0.8972 - precision: 0.9540 - val_loss: 0.5361 - val_accuracy: 0.8609 - val_recall: 0.8357 - val_precision: 0.9046 - lr: 1.0000e-04\n",
      "Epoch 37/300\n",
      "743/743 [==============================] - 117s 157ms/step - loss: 0.2668 - accuracy: 0.9199 - recall: 0.8986 - precision: 0.9547 - val_loss: 0.5862 - val_accuracy: 0.8524 - val_recall: 0.8262 - val_precision: 0.8978 - lr: 1.0000e-04\n",
      "Epoch 38/300\n",
      "743/743 [==============================] - 117s 158ms/step - loss: 0.2638 - accuracy: 0.9208 - recall: 0.8998 - precision: 0.9553 - val_loss: 0.5847 - val_accuracy: 0.8514 - val_recall: 0.8270 - val_precision: 0.8951 - lr: 1.0000e-04\n",
      "Epoch 39/300\n",
      "743/743 [==============================] - 117s 157ms/step - loss: 0.2603 - accuracy: 0.9216 - recall: 0.9009 - precision: 0.9557 - val_loss: 0.5789 - val_accuracy: 0.8556 - val_recall: 0.8321 - val_precision: 0.8974 - lr: 1.0000e-04\n",
      "Epoch 40/300\n",
      "743/743 [==============================] - 117s 157ms/step - loss: 0.2574 - accuracy: 0.9225 - recall: 0.9019 - precision: 0.9563 - val_loss: 0.5822 - val_accuracy: 0.8553 - val_recall: 0.8319 - val_precision: 0.8979 - lr: 1.0000e-04\n",
      "Epoch 41/300\n",
      "743/743 [==============================] - ETA: 0s - loss: 0.2550 - accuracy: 0.9231 - recall: 0.9028 - precision: 0.9566\n",
      "Epoch 41: ReduceLROnPlateau reducing learning rate to 1.0000000474974514e-05.\n",
      "743/743 [==============================] - 117s 157ms/step - loss: 0.2550 - accuracy: 0.9231 - recall: 0.9028 - precision: 0.9566 - val_loss: 0.6259 - val_accuracy: 0.8493 - val_recall: 0.8251 - val_precision: 0.8926 - lr: 1.0000e-04\n",
      "Epoch 42/300\n",
      "743/743 [==============================] - 117s 158ms/step - loss: 0.2507 - accuracy: 0.9243 - recall: 0.9040 - precision: 0.9575 - val_loss: 0.5909 - val_accuracy: 0.8551 - val_recall: 0.8323 - val_precision: 0.8958 - lr: 1.0000e-05\n",
      "Epoch 43/300\n",
      "743/743 [==============================] - 117s 157ms/step - loss: 0.2503 - accuracy: 0.9244 - recall: 0.9043 - precision: 0.9575 - val_loss: 0.5893 - val_accuracy: 0.8547 - val_recall: 0.8309 - val_precision: 0.8978 - lr: 1.0000e-05\n",
      "Epoch 44/300\n",
      "743/743 [==============================] - 117s 157ms/step - loss: 0.2498 - accuracy: 0.9246 - recall: 0.9046 - precision: 0.9576 - val_loss: 0.6095 - val_accuracy: 0.8523 - val_recall: 0.8293 - val_precision: 0.8943 - lr: 1.0000e-05\n",
      "Epoch 45/300\n",
      "385/743 [==============>...............] - ETA: 53s - loss: 0.2509 - accuracy: 0.9242 - recall: 0.9040 - precision: 0.9576"
     ]
    },
    {
     "ename": "KeyboardInterrupt",
     "evalue": "",
     "output_type": "error",
     "traceback": [
      "\u001b[0;31m---------------------------------------------------------------------------\u001b[0m",
      "\u001b[0;31mKeyboardInterrupt\u001b[0m                         Traceback (most recent call last)",
      "Cell \u001b[0;32mIn[9], line 1\u001b[0m\n\u001b[0;32m----> 1\u001b[0m history \u001b[38;5;241m=\u001b[39m \u001b[43mmodel\u001b[49m\u001b[38;5;241;43m.\u001b[39;49m\u001b[43mfit\u001b[49m\u001b[43m(\u001b[49m\u001b[43mtrain_set\u001b[49m\u001b[43m,\u001b[49m\n\u001b[1;32m      2\u001b[0m \u001b[43m                    \u001b[49m\u001b[43mvalidation_data\u001b[49m\u001b[38;5;241;43m=\u001b[39;49m\u001b[43mval_set\u001b[49m\u001b[43m,\u001b[49m\n\u001b[1;32m      3\u001b[0m \u001b[43m                    \u001b[49m\u001b[43mepochs\u001b[49m\u001b[38;5;241;43m=\u001b[39;49m\u001b[38;5;241;43m300\u001b[39;49m\u001b[43m,\u001b[49m\n\u001b[1;32m      4\u001b[0m \u001b[43m                    \u001b[49m\u001b[43mcallbacks\u001b[49m\u001b[38;5;241;43m=\u001b[39;49m\u001b[43mcallbacks\u001b[49m\u001b[43m,\u001b[49m\n\u001b[1;32m      5\u001b[0m \u001b[43m                    \u001b[49m\u001b[43msteps_per_epoch\u001b[49m\u001b[38;5;241;43m=\u001b[39;49m\u001b[43mtraining_images_num\u001b[49m\u001b[43m \u001b[49m\u001b[38;5;241;43m/\u001b[39;49m\u001b[38;5;241;43m/\u001b[39;49m\u001b[43m \u001b[49m\u001b[43mBATCH_SIZE\u001b[49m\u001b[43m,\u001b[49m\n\u001b[1;32m      6\u001b[0m \u001b[43m                    \u001b[49m\u001b[43mvalidation_steps\u001b[49m\u001b[38;5;241;43m=\u001b[39;49m\u001b[43mval_images_num\u001b[49m\u001b[43m \u001b[49m\u001b[38;5;241;43m/\u001b[39;49m\u001b[38;5;241;43m/\u001b[39;49m\u001b[43m \u001b[49m\u001b[43mBATCH_SIZE\u001b[49m\u001b[43m)\u001b[49m\n",
      "File \u001b[0;32m/usr/local/lib/python3.8/dist-packages/keras/src/utils/traceback_utils.py:65\u001b[0m, in \u001b[0;36mfilter_traceback.<locals>.error_handler\u001b[0;34m(*args, **kwargs)\u001b[0m\n\u001b[1;32m     63\u001b[0m filtered_tb \u001b[38;5;241m=\u001b[39m \u001b[38;5;28;01mNone\u001b[39;00m\n\u001b[1;32m     64\u001b[0m \u001b[38;5;28;01mtry\u001b[39;00m:\n\u001b[0;32m---> 65\u001b[0m     \u001b[38;5;28;01mreturn\u001b[39;00m \u001b[43mfn\u001b[49m\u001b[43m(\u001b[49m\u001b[38;5;241;43m*\u001b[39;49m\u001b[43margs\u001b[49m\u001b[43m,\u001b[49m\u001b[43m \u001b[49m\u001b[38;5;241;43m*\u001b[39;49m\u001b[38;5;241;43m*\u001b[39;49m\u001b[43mkwargs\u001b[49m\u001b[43m)\u001b[49m\n\u001b[1;32m     66\u001b[0m \u001b[38;5;28;01mexcept\u001b[39;00m \u001b[38;5;167;01mException\u001b[39;00m \u001b[38;5;28;01mas\u001b[39;00m e:\n\u001b[1;32m     67\u001b[0m     filtered_tb \u001b[38;5;241m=\u001b[39m _process_traceback_frames(e\u001b[38;5;241m.\u001b[39m__traceback__)\n",
      "File \u001b[0;32m/usr/local/lib/python3.8/dist-packages/keras/src/engine/training.py:1742\u001b[0m, in \u001b[0;36mModel.fit\u001b[0;34m(self, x, y, batch_size, epochs, verbose, callbacks, validation_split, validation_data, shuffle, class_weight, sample_weight, initial_epoch, steps_per_epoch, validation_steps, validation_batch_size, validation_freq, max_queue_size, workers, use_multiprocessing)\u001b[0m\n\u001b[1;32m   1734\u001b[0m \u001b[38;5;28;01mwith\u001b[39;00m tf\u001b[38;5;241m.\u001b[39mprofiler\u001b[38;5;241m.\u001b[39mexperimental\u001b[38;5;241m.\u001b[39mTrace(\n\u001b[1;32m   1735\u001b[0m     \u001b[38;5;124m\"\u001b[39m\u001b[38;5;124mtrain\u001b[39m\u001b[38;5;124m\"\u001b[39m,\n\u001b[1;32m   1736\u001b[0m     epoch_num\u001b[38;5;241m=\u001b[39mepoch,\n\u001b[0;32m   (...)\u001b[0m\n\u001b[1;32m   1739\u001b[0m     _r\u001b[38;5;241m=\u001b[39m\u001b[38;5;241m1\u001b[39m,\n\u001b[1;32m   1740\u001b[0m ):\n\u001b[1;32m   1741\u001b[0m     callbacks\u001b[38;5;241m.\u001b[39mon_train_batch_begin(step)\n\u001b[0;32m-> 1742\u001b[0m     tmp_logs \u001b[38;5;241m=\u001b[39m \u001b[38;5;28;43mself\u001b[39;49m\u001b[38;5;241;43m.\u001b[39;49m\u001b[43mtrain_function\u001b[49m\u001b[43m(\u001b[49m\u001b[43miterator\u001b[49m\u001b[43m)\u001b[49m\n\u001b[1;32m   1743\u001b[0m     \u001b[38;5;28;01mif\u001b[39;00m data_handler\u001b[38;5;241m.\u001b[39mshould_sync:\n\u001b[1;32m   1744\u001b[0m         context\u001b[38;5;241m.\u001b[39masync_wait()\n",
      "File \u001b[0;32m/usr/local/lib/python3.8/dist-packages/tensorflow/python/util/traceback_utils.py:150\u001b[0m, in \u001b[0;36mfilter_traceback.<locals>.error_handler\u001b[0;34m(*args, **kwargs)\u001b[0m\n\u001b[1;32m    148\u001b[0m filtered_tb \u001b[38;5;241m=\u001b[39m \u001b[38;5;28;01mNone\u001b[39;00m\n\u001b[1;32m    149\u001b[0m \u001b[38;5;28;01mtry\u001b[39;00m:\n\u001b[0;32m--> 150\u001b[0m   \u001b[38;5;28;01mreturn\u001b[39;00m \u001b[43mfn\u001b[49m\u001b[43m(\u001b[49m\u001b[38;5;241;43m*\u001b[39;49m\u001b[43margs\u001b[49m\u001b[43m,\u001b[49m\u001b[43m \u001b[49m\u001b[38;5;241;43m*\u001b[39;49m\u001b[38;5;241;43m*\u001b[39;49m\u001b[43mkwargs\u001b[49m\u001b[43m)\u001b[49m\n\u001b[1;32m    151\u001b[0m \u001b[38;5;28;01mexcept\u001b[39;00m \u001b[38;5;167;01mException\u001b[39;00m \u001b[38;5;28;01mas\u001b[39;00m e:\n\u001b[1;32m    152\u001b[0m   filtered_tb \u001b[38;5;241m=\u001b[39m _process_traceback_frames(e\u001b[38;5;241m.\u001b[39m__traceback__)\n",
      "File \u001b[0;32m/usr/local/lib/python3.8/dist-packages/tensorflow/python/eager/polymorphic_function/polymorphic_function.py:825\u001b[0m, in \u001b[0;36mFunction.__call__\u001b[0;34m(self, *args, **kwds)\u001b[0m\n\u001b[1;32m    822\u001b[0m compiler \u001b[38;5;241m=\u001b[39m \u001b[38;5;124m\"\u001b[39m\u001b[38;5;124mxla\u001b[39m\u001b[38;5;124m\"\u001b[39m \u001b[38;5;28;01mif\u001b[39;00m \u001b[38;5;28mself\u001b[39m\u001b[38;5;241m.\u001b[39m_jit_compile \u001b[38;5;28;01melse\u001b[39;00m \u001b[38;5;124m\"\u001b[39m\u001b[38;5;124mnonXla\u001b[39m\u001b[38;5;124m\"\u001b[39m\n\u001b[1;32m    824\u001b[0m \u001b[38;5;28;01mwith\u001b[39;00m OptionalXlaContext(\u001b[38;5;28mself\u001b[39m\u001b[38;5;241m.\u001b[39m_jit_compile):\n\u001b[0;32m--> 825\u001b[0m   result \u001b[38;5;241m=\u001b[39m \u001b[38;5;28;43mself\u001b[39;49m\u001b[38;5;241;43m.\u001b[39;49m\u001b[43m_call\u001b[49m\u001b[43m(\u001b[49m\u001b[38;5;241;43m*\u001b[39;49m\u001b[43margs\u001b[49m\u001b[43m,\u001b[49m\u001b[43m \u001b[49m\u001b[38;5;241;43m*\u001b[39;49m\u001b[38;5;241;43m*\u001b[39;49m\u001b[43mkwds\u001b[49m\u001b[43m)\u001b[49m\n\u001b[1;32m    827\u001b[0m new_tracing_count \u001b[38;5;241m=\u001b[39m \u001b[38;5;28mself\u001b[39m\u001b[38;5;241m.\u001b[39mexperimental_get_tracing_count()\n\u001b[1;32m    828\u001b[0m without_tracing \u001b[38;5;241m=\u001b[39m (tracing_count \u001b[38;5;241m==\u001b[39m new_tracing_count)\n",
      "File \u001b[0;32m/usr/local/lib/python3.8/dist-packages/tensorflow/python/eager/polymorphic_function/polymorphic_function.py:857\u001b[0m, in \u001b[0;36mFunction._call\u001b[0;34m(self, *args, **kwds)\u001b[0m\n\u001b[1;32m    854\u001b[0m   \u001b[38;5;28mself\u001b[39m\u001b[38;5;241m.\u001b[39m_lock\u001b[38;5;241m.\u001b[39mrelease()\n\u001b[1;32m    855\u001b[0m   \u001b[38;5;66;03m# In this case we have created variables on the first call, so we run the\u001b[39;00m\n\u001b[1;32m    856\u001b[0m   \u001b[38;5;66;03m# defunned version which is guaranteed to never create variables.\u001b[39;00m\n\u001b[0;32m--> 857\u001b[0m   \u001b[38;5;28;01mreturn\u001b[39;00m \u001b[38;5;28;43mself\u001b[39;49m\u001b[38;5;241;43m.\u001b[39;49m\u001b[43m_no_variable_creation_fn\u001b[49m\u001b[43m(\u001b[49m\u001b[38;5;241;43m*\u001b[39;49m\u001b[43margs\u001b[49m\u001b[43m,\u001b[49m\u001b[43m \u001b[49m\u001b[38;5;241;43m*\u001b[39;49m\u001b[38;5;241;43m*\u001b[39;49m\u001b[43mkwds\u001b[49m\u001b[43m)\u001b[49m  \u001b[38;5;66;03m# pylint: disable=not-callable\u001b[39;00m\n\u001b[1;32m    858\u001b[0m \u001b[38;5;28;01melif\u001b[39;00m \u001b[38;5;28mself\u001b[39m\u001b[38;5;241m.\u001b[39m_variable_creation_fn \u001b[38;5;129;01mis\u001b[39;00m \u001b[38;5;129;01mnot\u001b[39;00m \u001b[38;5;28;01mNone\u001b[39;00m:\n\u001b[1;32m    859\u001b[0m   \u001b[38;5;66;03m# Release the lock early so that multiple threads can perform the call\u001b[39;00m\n\u001b[1;32m    860\u001b[0m   \u001b[38;5;66;03m# in parallel.\u001b[39;00m\n\u001b[1;32m    861\u001b[0m   \u001b[38;5;28mself\u001b[39m\u001b[38;5;241m.\u001b[39m_lock\u001b[38;5;241m.\u001b[39mrelease()\n",
      "File \u001b[0;32m/usr/local/lib/python3.8/dist-packages/tensorflow/python/eager/polymorphic_function/tracing_compiler.py:148\u001b[0m, in \u001b[0;36mTracingCompiler.__call__\u001b[0;34m(self, *args, **kwargs)\u001b[0m\n\u001b[1;32m    145\u001b[0m \u001b[38;5;28;01mwith\u001b[39;00m \u001b[38;5;28mself\u001b[39m\u001b[38;5;241m.\u001b[39m_lock:\n\u001b[1;32m    146\u001b[0m   (concrete_function,\n\u001b[1;32m    147\u001b[0m    filtered_flat_args) \u001b[38;5;241m=\u001b[39m \u001b[38;5;28mself\u001b[39m\u001b[38;5;241m.\u001b[39m_maybe_define_function(args, kwargs)\n\u001b[0;32m--> 148\u001b[0m \u001b[38;5;28;01mreturn\u001b[39;00m \u001b[43mconcrete_function\u001b[49m\u001b[38;5;241;43m.\u001b[39;49m\u001b[43m_call_flat\u001b[49m\u001b[43m(\u001b[49m\n\u001b[1;32m    149\u001b[0m \u001b[43m    \u001b[49m\u001b[43mfiltered_flat_args\u001b[49m\u001b[43m,\u001b[49m\u001b[43m \u001b[49m\u001b[43mcaptured_inputs\u001b[49m\u001b[38;5;241;43m=\u001b[39;49m\u001b[43mconcrete_function\u001b[49m\u001b[38;5;241;43m.\u001b[39;49m\u001b[43mcaptured_inputs\u001b[49m\u001b[43m)\u001b[49m\n",
      "File \u001b[0;32m/usr/local/lib/python3.8/dist-packages/tensorflow/python/eager/polymorphic_function/monomorphic_function.py:1349\u001b[0m, in \u001b[0;36mConcreteFunction._call_flat\u001b[0;34m(self, args, captured_inputs)\u001b[0m\n\u001b[1;32m   1345\u001b[0m possible_gradient_type \u001b[38;5;241m=\u001b[39m gradients_util\u001b[38;5;241m.\u001b[39mPossibleTapeGradientTypes(args)\n\u001b[1;32m   1346\u001b[0m \u001b[38;5;28;01mif\u001b[39;00m (possible_gradient_type \u001b[38;5;241m==\u001b[39m gradients_util\u001b[38;5;241m.\u001b[39mPOSSIBLE_GRADIENT_TYPES_NONE\n\u001b[1;32m   1347\u001b[0m     \u001b[38;5;129;01mand\u001b[39;00m executing_eagerly):\n\u001b[1;32m   1348\u001b[0m   \u001b[38;5;66;03m# No tape is watching; skip to running the function.\u001b[39;00m\n\u001b[0;32m-> 1349\u001b[0m   \u001b[38;5;28;01mreturn\u001b[39;00m \u001b[38;5;28mself\u001b[39m\u001b[38;5;241m.\u001b[39m_build_call_outputs(\u001b[38;5;28;43mself\u001b[39;49m\u001b[38;5;241;43m.\u001b[39;49m\u001b[43m_inference_function\u001b[49m\u001b[43m(\u001b[49m\u001b[38;5;241;43m*\u001b[39;49m\u001b[43margs\u001b[49m\u001b[43m)\u001b[49m)\n\u001b[1;32m   1350\u001b[0m forward_backward \u001b[38;5;241m=\u001b[39m \u001b[38;5;28mself\u001b[39m\u001b[38;5;241m.\u001b[39m_select_forward_and_backward_functions(\n\u001b[1;32m   1351\u001b[0m     args,\n\u001b[1;32m   1352\u001b[0m     possible_gradient_type,\n\u001b[1;32m   1353\u001b[0m     executing_eagerly)\n\u001b[1;32m   1354\u001b[0m forward_function, args_with_tangents \u001b[38;5;241m=\u001b[39m forward_backward\u001b[38;5;241m.\u001b[39mforward()\n",
      "File \u001b[0;32m/usr/local/lib/python3.8/dist-packages/tensorflow/python/eager/polymorphic_function/atomic_function.py:196\u001b[0m, in \u001b[0;36mAtomicFunction.__call__\u001b[0;34m(self, *args)\u001b[0m\n\u001b[1;32m    194\u001b[0m \u001b[38;5;28;01mwith\u001b[39;00m record\u001b[38;5;241m.\u001b[39mstop_recording():\n\u001b[1;32m    195\u001b[0m   \u001b[38;5;28;01mif\u001b[39;00m \u001b[38;5;28mself\u001b[39m\u001b[38;5;241m.\u001b[39m_bound_context\u001b[38;5;241m.\u001b[39mexecuting_eagerly():\n\u001b[0;32m--> 196\u001b[0m     outputs \u001b[38;5;241m=\u001b[39m \u001b[38;5;28;43mself\u001b[39;49m\u001b[38;5;241;43m.\u001b[39;49m\u001b[43m_bound_context\u001b[49m\u001b[38;5;241;43m.\u001b[39;49m\u001b[43mcall_function\u001b[49m\u001b[43m(\u001b[49m\n\u001b[1;32m    197\u001b[0m \u001b[43m        \u001b[49m\u001b[38;5;28;43mself\u001b[39;49m\u001b[38;5;241;43m.\u001b[39;49m\u001b[43mname\u001b[49m\u001b[43m,\u001b[49m\n\u001b[1;32m    198\u001b[0m \u001b[43m        \u001b[49m\u001b[38;5;28;43mlist\u001b[39;49m\u001b[43m(\u001b[49m\u001b[43margs\u001b[49m\u001b[43m)\u001b[49m\u001b[43m,\u001b[49m\n\u001b[1;32m    199\u001b[0m \u001b[43m        \u001b[49m\u001b[38;5;28;43mlen\u001b[39;49m\u001b[43m(\u001b[49m\u001b[38;5;28;43mself\u001b[39;49m\u001b[38;5;241;43m.\u001b[39;49m\u001b[43mfunction_type\u001b[49m\u001b[38;5;241;43m.\u001b[39;49m\u001b[43mflat_outputs\u001b[49m\u001b[43m)\u001b[49m\u001b[43m,\u001b[49m\n\u001b[1;32m    200\u001b[0m \u001b[43m    \u001b[49m\u001b[43m)\u001b[49m\n\u001b[1;32m    201\u001b[0m   \u001b[38;5;28;01melse\u001b[39;00m:\n\u001b[1;32m    202\u001b[0m     outputs \u001b[38;5;241m=\u001b[39m make_call_op_in_graph(\u001b[38;5;28mself\u001b[39m, \u001b[38;5;28mlist\u001b[39m(args))\n",
      "File \u001b[0;32m/usr/local/lib/python3.8/dist-packages/tensorflow/python/eager/context.py:1457\u001b[0m, in \u001b[0;36mContext.call_function\u001b[0;34m(self, name, tensor_inputs, num_outputs)\u001b[0m\n\u001b[1;32m   1455\u001b[0m cancellation_context \u001b[38;5;241m=\u001b[39m cancellation\u001b[38;5;241m.\u001b[39mcontext()\n\u001b[1;32m   1456\u001b[0m \u001b[38;5;28;01mif\u001b[39;00m cancellation_context \u001b[38;5;129;01mis\u001b[39;00m \u001b[38;5;28;01mNone\u001b[39;00m:\n\u001b[0;32m-> 1457\u001b[0m   outputs \u001b[38;5;241m=\u001b[39m \u001b[43mexecute\u001b[49m\u001b[38;5;241;43m.\u001b[39;49m\u001b[43mexecute\u001b[49m\u001b[43m(\u001b[49m\n\u001b[1;32m   1458\u001b[0m \u001b[43m      \u001b[49m\u001b[43mname\u001b[49m\u001b[38;5;241;43m.\u001b[39;49m\u001b[43mdecode\u001b[49m\u001b[43m(\u001b[49m\u001b[38;5;124;43m\"\u001b[39;49m\u001b[38;5;124;43mutf-8\u001b[39;49m\u001b[38;5;124;43m\"\u001b[39;49m\u001b[43m)\u001b[49m\u001b[43m,\u001b[49m\n\u001b[1;32m   1459\u001b[0m \u001b[43m      \u001b[49m\u001b[43mnum_outputs\u001b[49m\u001b[38;5;241;43m=\u001b[39;49m\u001b[43mnum_outputs\u001b[49m\u001b[43m,\u001b[49m\n\u001b[1;32m   1460\u001b[0m \u001b[43m      \u001b[49m\u001b[43minputs\u001b[49m\u001b[38;5;241;43m=\u001b[39;49m\u001b[43mtensor_inputs\u001b[49m\u001b[43m,\u001b[49m\n\u001b[1;32m   1461\u001b[0m \u001b[43m      \u001b[49m\u001b[43mattrs\u001b[49m\u001b[38;5;241;43m=\u001b[39;49m\u001b[43mattrs\u001b[49m\u001b[43m,\u001b[49m\n\u001b[1;32m   1462\u001b[0m \u001b[43m      \u001b[49m\u001b[43mctx\u001b[49m\u001b[38;5;241;43m=\u001b[39;49m\u001b[38;5;28;43mself\u001b[39;49m\u001b[43m,\u001b[49m\n\u001b[1;32m   1463\u001b[0m \u001b[43m  \u001b[49m\u001b[43m)\u001b[49m\n\u001b[1;32m   1464\u001b[0m \u001b[38;5;28;01melse\u001b[39;00m:\n\u001b[1;32m   1465\u001b[0m   outputs \u001b[38;5;241m=\u001b[39m execute\u001b[38;5;241m.\u001b[39mexecute_with_cancellation(\n\u001b[1;32m   1466\u001b[0m       name\u001b[38;5;241m.\u001b[39mdecode(\u001b[38;5;124m\"\u001b[39m\u001b[38;5;124mutf-8\u001b[39m\u001b[38;5;124m\"\u001b[39m),\n\u001b[1;32m   1467\u001b[0m       num_outputs\u001b[38;5;241m=\u001b[39mnum_outputs,\n\u001b[0;32m   (...)\u001b[0m\n\u001b[1;32m   1471\u001b[0m       cancellation_manager\u001b[38;5;241m=\u001b[39mcancellation_context,\n\u001b[1;32m   1472\u001b[0m   )\n",
      "File \u001b[0;32m/usr/local/lib/python3.8/dist-packages/tensorflow/python/eager/execute.py:53\u001b[0m, in \u001b[0;36mquick_execute\u001b[0;34m(op_name, num_outputs, inputs, attrs, ctx, name)\u001b[0m\n\u001b[1;32m     51\u001b[0m \u001b[38;5;28;01mtry\u001b[39;00m:\n\u001b[1;32m     52\u001b[0m   ctx\u001b[38;5;241m.\u001b[39mensure_initialized()\n\u001b[0;32m---> 53\u001b[0m   tensors \u001b[38;5;241m=\u001b[39m \u001b[43mpywrap_tfe\u001b[49m\u001b[38;5;241;43m.\u001b[39;49m\u001b[43mTFE_Py_Execute\u001b[49m\u001b[43m(\u001b[49m\u001b[43mctx\u001b[49m\u001b[38;5;241;43m.\u001b[39;49m\u001b[43m_handle\u001b[49m\u001b[43m,\u001b[49m\u001b[43m \u001b[49m\u001b[43mdevice_name\u001b[49m\u001b[43m,\u001b[49m\u001b[43m \u001b[49m\u001b[43mop_name\u001b[49m\u001b[43m,\u001b[49m\n\u001b[1;32m     54\u001b[0m \u001b[43m                                      \u001b[49m\u001b[43minputs\u001b[49m\u001b[43m,\u001b[49m\u001b[43m \u001b[49m\u001b[43mattrs\u001b[49m\u001b[43m,\u001b[49m\u001b[43m \u001b[49m\u001b[43mnum_outputs\u001b[49m\u001b[43m)\u001b[49m\n\u001b[1;32m     55\u001b[0m \u001b[38;5;28;01mexcept\u001b[39;00m core\u001b[38;5;241m.\u001b[39m_NotOkStatusException \u001b[38;5;28;01mas\u001b[39;00m e:\n\u001b[1;32m     56\u001b[0m   \u001b[38;5;28;01mif\u001b[39;00m name \u001b[38;5;129;01mis\u001b[39;00m \u001b[38;5;129;01mnot\u001b[39;00m \u001b[38;5;28;01mNone\u001b[39;00m:\n",
      "\u001b[0;31mKeyboardInterrupt\u001b[0m: "
     ]
    }
   ],
   "source": [
    "history = model.fit(train_set,\n",
    "                    validation_data=val_set,\n",
    "                    epochs=300,\n",
    "                    callbacks=callbacks,\n",
    "                    steps_per_epoch=training_images_num // BATCH_SIZE,\n",
    "                    validation_steps=val_images_num // BATCH_SIZE)"
   ]
  }
 ],
 "metadata": {
  "kernelspec": {
   "display_name": "Python 3 (ipykernel)",
   "language": "python",
   "name": "python3"
  },
  "language_info": {
   "codemirror_mode": {
    "name": "ipython",
    "version": 3
   },
   "file_extension": ".py",
   "mimetype": "text/x-python",
   "name": "python",
   "nbconvert_exporter": "python",
   "pygments_lexer": "ipython3",
   "version": "3.8.10"
  }
 },
 "nbformat": 4,
 "nbformat_minor": 5
}

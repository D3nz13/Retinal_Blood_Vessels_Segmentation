{
 "cells": [
  {
   "cell_type": "code",
   "execution_count": null,
   "id": "loaded-elephant",
   "metadata": {},
   "outputs": [],
   "source": [
    "%pwd"
   ]
  },
  {
   "cell_type": "code",
   "execution_count": null,
   "id": "perceived-morris",
   "metadata": {},
   "outputs": [],
   "source": [
    "import sys\n",
    "sys.path.append(\"E:\\\\Github Projects\\\\Retinal_Blood_Vessels_Segmentation\")"
   ]
  },
  {
   "cell_type": "code",
   "execution_count": null,
   "id": "1efe0aa4-0323-4e06-9899-0240a339171d",
   "metadata": {},
   "outputs": [],
   "source": [
    "import cv2\n",
    "import numpy as np\n",
    "\n",
    "from sklearn.pipeline import Pipeline\n",
    "from sklearn.preprocessing import StandardScaler, MinMaxScaler\n",
    "from sklearn.ensemble import RandomForestClassifier\n",
    "from sklearn.svm import SVC\n",
    "from sklearn.neighbors import KNeighborsClassifier\n",
    "from sklearn.utils import resample\n",
    "from sklearn.model_selection import train_test_split, GridSearchCV\n",
    "from imblearn.under_sampling import RandomUnderSampler, NearMiss\n",
    "\n",
    "from scripts.prepare_data import create_dataset_from_directory"
   ]
  },
  {
   "cell_type": "code",
   "execution_count": null,
   "id": "f382ed3f-ef8e-4f35-a6d9-100cfe6d93a9",
   "metadata": {},
   "outputs": [],
   "source": [
    "X, y = create_dataset_from_directory(dir=\"../images/CHASE\", channel=1, window_shape=(5, 5), pad=True, padding=(2, 2))"
   ]
  },
  {
   "cell_type": "code",
   "execution_count": null,
   "id": "c33802c0-0718-49d2-9e12-18a46a56d986",
   "metadata": {},
   "outputs": [],
   "source": [
    "X.shape, y.shape, np.unique(y, return_counts=True)"
   ]
  },
  {
   "cell_type": "code",
   "execution_count": null,
   "id": "c489c257-b483-4fba-8bff-f79188a5dec3",
   "metadata": {},
   "outputs": [],
   "source": [
    "undersampler = RandomUnderSampler(random_state=42)\n",
    "\n",
    "X_undersampled, y_undersampled = undersampler.fit_resample(X, y)"
   ]
  },
  {
   "cell_type": "code",
   "execution_count": null,
   "id": "faeacc35-02eb-4520-b014-755a4b4dd18f",
   "metadata": {},
   "outputs": [],
   "source": [
    "X_undersampled.shape, y_undersampled.shape, np.unique(y_undersampled, return_counts=True)"
   ]
  },
  {
   "cell_type": "code",
   "execution_count": null,
   "id": "459b8061-b5b9-4d94-a3ed-1ed672310a2c",
   "metadata": {},
   "outputs": [],
   "source": [
    "X_train, X_test, y_train, y_test = train_test_split(X_undersampled, y_undersampled, train_size=0.8, random_state=42)\n",
    "\n",
    "X_train, X_test = X_train/255, X_test/255\n",
    "y_train, y_test = (y_train/255).astype(int), (y_test/255).astype(int)\n",
    "\n",
    "X_train, y_train = resample(X_train, y_train, random_state=42, stratify=y_train, n_samples=200000, replace=False)"
   ]
  },
  {
   "cell_type": "code",
   "execution_count": null,
   "id": "66a4931e-2caf-4ae7-b34d-9e73120d93f6",
   "metadata": {},
   "outputs": [],
   "source": [
    "X_train.shape, y_train.shape, np.unique(y_train, return_counts=True)"
   ]
  },
  {
   "cell_type": "code",
   "execution_count": null,
   "id": "4f5b43b3-86ca-4240-9ced-6b2b61be6fb7",
   "metadata": {
    "scrolled": false
   },
   "outputs": [],
   "source": [
    "pipeline = Pipeline(steps=[('clf', RandomForestClassifier())])\n",
    "\n",
    "params = [\n",
    "    {\n",
    "        \"clf\": [RandomForestClassifier()],\n",
    "        \"clf__criterion\": [\"gini\", \"entropy\"],\n",
    "        \"clf__max_depth\": np.arange(4, 13, 2),\n",
    "        \"clf__n_estimators\": np.arange(10, 81, 10),\n",
    "    },\n",
    "    {\n",
    "        \"clf\": [SVC()],\n",
    "        \"clf__C\": [0.1, 1, 10, 100],\n",
    "        \"clf__kernel\": [\"rbf\", \"linear\"]\n",
    "    },\n",
    "    {\n",
    "        \"clf\": [KNeighborsClassifier()],\n",
    "        \"clf__n_neighbors\": np.arange(3, 11, 2),\n",
    "        \"clf__weights\": [\"uniform\", \"distance\"]\n",
    "    }\n",
    "]\n",
    "\n",
    "grid = GridSearchCV(pipeline, params, cv=4, verbose=3, scoring='f1')\n",
    "\n",
    "grid.fit(X_train, y_train)"
   ]
  },
  {
   "cell_type": "code",
   "execution_count": null,
   "id": "cathedral-setup",
   "metadata": {},
   "outputs": [],
   "source": []
  }
 ],
 "metadata": {
  "kernelspec": {
   "display_name": "Python 3",
   "language": "python",
   "name": "python3"
  },
  "language_info": {
   "codemirror_mode": {
    "name": "ipython",
    "version": 3
   },
   "file_extension": ".py",
   "mimetype": "text/x-python",
   "name": "python",
   "nbconvert_exporter": "python",
   "pygments_lexer": "ipython3",
   "version": "3.9.2"
  }
 },
 "nbformat": 4,
 "nbformat_minor": 5
}
